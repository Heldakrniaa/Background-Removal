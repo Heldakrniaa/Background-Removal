{
 "cells": [
  {
   "cell_type": "code",
   "execution_count": 1,
   "id": "9460610d",
   "metadata": {
    "scrolled": true
   },
   "outputs": [
    {
     "name": "stdout",
     "output_type": "stream",
     "text": [
      "Requirement already satisfied: rembg in c:\\users\\anand\\appdata\\roaming\\python\\python39\\site-packages (2.0.49)\n",
      "Requirement already satisfied: numpy in c:\\users\\anand\\anaconda3\\lib\\site-packages (from rembg) (1.21.6)\n",
      "Requirement already satisfied: onnxruntime in c:\\users\\anand\\appdata\\roaming\\python\\python39\\site-packages (from rembg) (1.15.1)\n",
      "Requirement already satisfied: opencv-python-headless in c:\\users\\anand\\appdata\\roaming\\python\\python39\\site-packages (from rembg) (4.8.0.74)\n",
      "Requirement already satisfied: pillow in c:\\users\\anand\\anaconda3\\lib\\site-packages (from rembg) (9.2.0)\n",
      "Requirement already satisfied: pooch in c:\\users\\anand\\anaconda3\\lib\\site-packages (from rembg) (1.7.0)\n",
      "Requirement already satisfied: pymatting in c:\\users\\anand\\appdata\\roaming\\python\\python39\\site-packages (from rembg) (1.1.8)\n",
      "Requirement already satisfied: scikit-image in c:\\users\\anand\\anaconda3\\lib\\site-packages (from rembg) (0.19.2)\n",
      "Requirement already satisfied: scipy in c:\\users\\anand\\anaconda3\\lib\\site-packages (from rembg) (1.9.1)\n",
      "Requirement already satisfied: tqdm in c:\\users\\anand\\anaconda3\\lib\\site-packages (from rembg) (4.64.1)\n",
      "Requirement already satisfied: coloredlogs in c:\\users\\anand\\appdata\\roaming\\python\\python39\\site-packages (from onnxruntime->rembg) (15.0.1)\n",
      "Requirement already satisfied: flatbuffers in c:\\users\\anand\\anaconda3\\lib\\site-packages (from onnxruntime->rembg) (23.5.26)\n",
      "Requirement already satisfied: packaging in c:\\users\\anand\\anaconda3\\lib\\site-packages (from onnxruntime->rembg) (21.3)\n",
      "Requirement already satisfied: protobuf in c:\\users\\anand\\anaconda3\\lib\\site-packages (from onnxruntime->rembg) (4.23.3)\n",
      "Requirement already satisfied: sympy in c:\\users\\anand\\anaconda3\\lib\\site-packages (from onnxruntime->rembg) (1.10.1)\n",
      "Requirement already satisfied: platformdirs>=2.5.0 in c:\\users\\anand\\anaconda3\\lib\\site-packages (from pooch->rembg) (2.5.2)\n",
      "Requirement already satisfied: requests>=2.19.0 in c:\\users\\anand\\anaconda3\\lib\\site-packages (from pooch->rembg) (2.28.1)\n",
      "Requirement already satisfied: numba!=0.49.0 in c:\\users\\anand\\anaconda3\\lib\\site-packages (from pymatting->rembg) (0.55.1)\n",
      "Requirement already satisfied: networkx>=2.2 in c:\\users\\anand\\anaconda3\\lib\\site-packages (from scikit-image->rembg) (2.8.4)\n",
      "Requirement already satisfied: imageio>=2.4.1 in c:\\users\\anand\\anaconda3\\lib\\site-packages (from scikit-image->rembg) (2.19.3)\n",
      "Requirement already satisfied: tifffile>=2019.7.26 in c:\\users\\anand\\anaconda3\\lib\\site-packages (from scikit-image->rembg) (2021.7.2)\n",
      "Requirement already satisfied: PyWavelets>=1.1.1 in c:\\users\\anand\\anaconda3\\lib\\site-packages (from scikit-image->rembg) (1.3.0)\n",
      "Requirement already satisfied: colorama in c:\\users\\anand\\anaconda3\\lib\\site-packages (from tqdm->rembg) (0.4.5)\n",
      "Requirement already satisfied: llvmlite<0.39,>=0.38.0rc1 in c:\\users\\anand\\anaconda3\\lib\\site-packages (from numba!=0.49.0->pymatting->rembg) (0.38.0)\n",
      "Requirement already satisfied: setuptools in c:\\users\\anand\\anaconda3\\lib\\site-packages (from numba!=0.49.0->pymatting->rembg) (63.4.1)\n",
      "Requirement already satisfied: pyparsing!=3.0.5,>=2.0.2 in c:\\users\\anand\\anaconda3\\lib\\site-packages (from packaging->onnxruntime->rembg) (3.0.9)\n",
      "Requirement already satisfied: charset-normalizer<3,>=2 in c:\\users\\anand\\anaconda3\\lib\\site-packages (from requests>=2.19.0->pooch->rembg) (2.0.4)\n",
      "Requirement already satisfied: idna<4,>=2.5 in c:\\users\\anand\\anaconda3\\lib\\site-packages (from requests>=2.19.0->pooch->rembg) (3.3)\n",
      "Requirement already satisfied: urllib3<1.27,>=1.21.1 in c:\\users\\anand\\anaconda3\\lib\\site-packages (from requests>=2.19.0->pooch->rembg) (1.26.11)\n",
      "Requirement already satisfied: certifi>=2017.4.17 in c:\\users\\anand\\anaconda3\\lib\\site-packages (from requests>=2.19.0->pooch->rembg) (2022.9.14)\n",
      "Requirement already satisfied: humanfriendly>=9.1 in c:\\users\\anand\\anaconda3\\lib\\site-packages (from coloredlogs->onnxruntime->rembg) (10.0)\n",
      "Requirement already satisfied: mpmath>=0.19 in c:\\users\\anand\\anaconda3\\lib\\site-packages (from sympy->onnxruntime->rembg) (1.2.1)\n",
      "Requirement already satisfied: pyreadline3 in c:\\users\\anand\\anaconda3\\lib\\site-packages (from humanfriendly>=9.1->coloredlogs->onnxruntime->rembg) (3.4.1)\n",
      "Note: you may need to restart the kernel to use updated packages.\n"
     ]
    }
   ],
   "source": [
    "pip install rembg --user"
   ]
  },
  {
   "cell_type": "markdown",
   "id": "d8703b97",
   "metadata": {},
   "source": [
    "# REMOVE BG"
   ]
  },
  {
   "cell_type": "code",
   "execution_count": 4,
   "id": "ae52c432",
   "metadata": {},
   "outputs": [],
   "source": [
    "from rembg import remove\n",
    "from PIL import Image\n",
    "input_path = 'cup.jpg'\n",
    "output_path = 'cup2.png'\n",
    "input = Image.open(input_path)\n",
    "output = remove(input)"
   ]
  },
  {
   "cell_type": "code",
   "execution_count": 3,
   "id": "86bb9b92",
   "metadata": {},
   "outputs": [],
   "source": [
    "output.save(output_path)"
   ]
  },
  {
   "cell_type": "code",
   "execution_count": null,
   "id": "559aae82",
   "metadata": {},
   "outputs": [],
   "source": []
  }
 ],
 "metadata": {
  "kernelspec": {
   "display_name": "Python 3 (ipykernel)",
   "language": "python",
   "name": "python3"
  },
  "language_info": {
   "codemirror_mode": {
    "name": "ipython",
    "version": 3
   },
   "file_extension": ".py",
   "mimetype": "text/x-python",
   "name": "python",
   "nbconvert_exporter": "python",
   "pygments_lexer": "ipython3",
   "version": "3.9.13"
  }
 },
 "nbformat": 4,
 "nbformat_minor": 5
}
